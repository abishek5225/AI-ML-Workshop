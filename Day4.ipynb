{
 "cells": [
  {
   "cell_type": "code",
   "execution_count": null,
   "id": "6e6d748c-3bbc-49fe-a2a9-7ab7d926bb93",
   "metadata": {},
   "outputs": [],
   "source": [
    "import pandas as pd\n",
    "import matplotlib.pyplot as plt\n",
    "from sklearn.linear_model import LinearRegression\n",
    "from sklearn.model_selection import train_test_split"
   ]
  },
  {
   "cell_type": "code",
   "execution_count": null,
   "id": "109e091f-4d94-4a3f-a60e-af27e0f1a779",
   "metadata": {},
   "outputs": [],
   "source": [
    "import pandas as pd\n",
    "df=pd.read_csv(\"Iris.csv\")\n",
    "print(\"Head data\\n\",df.head())\n",
    "print(\"\\nTail data\\n\",df.tail())\n",
    "print(\"\\nData info\",df.info())\n"
   ]
  },
  {
   "cell_type": "code",
   "execution_count": null,
   "id": "ede374ae-65dd-447e-8b6e-64c4ceb110a3",
   "metadata": {},
   "outputs": [],
   "source": [
    "df.drop(index=[6], inplace=True)\n",
    "print(df.head())"
   ]
  },
  {
   "cell_type": "code",
   "execution_count": null,
   "id": "de734912-f018-44b2-9e15-ec0fd73b82a4",
   "metadata": {},
   "outputs": [],
   "source": [
    "Species=df[\"Species\"]\n",
    "Species.head()"
   ]
  },
  {
   "cell_type": "code",
   "execution_count": null,
   "id": "d24c6f4f-f4d3-4faf-8689-314d186170e4",
   "metadata": {},
   "outputs": [],
   "source": [
    "X= df[['SepalLengthCm']] #input (independent variable)\n",
    "y= df['PetalLengthCm'] #output (dependent variable)"
   ]
  }
 ],
 "metadata": {
  "kernelspec": {
   "display_name": "Python 3 (ipykernel)",
   "language": "python",
   "name": "python3"
  },
  "language_info": {
   "codemirror_mode": {
    "name": "ipython",
    "version": 3
   },
   "file_extension": ".py",
   "mimetype": "text/x-python",
   "name": "python",
   "nbconvert_exporter": "python",
   "pygments_lexer": "ipython3",
   "version": "3.13.2"
  }
 },
 "nbformat": 4,
 "nbformat_minor": 5
}
