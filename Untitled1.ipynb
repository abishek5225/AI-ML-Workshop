{
 "cells": [
  {
   "cell_type": "code",
   "execution_count": 2,
   "id": "82f981e5-2967-4a43-82c4-c68af74bad89",
   "metadata": {},
   "outputs": [
    {
     "name": "stdout",
     "output_type": "stream",
     "text": [
      "python list multiplication\n",
      " [1, 2, 3, 1, 2, 3]\n"
     ]
    }
   ],
   "source": [
    "import numpy as np\n",
    "\n",
    "py_list = [1,2,3]\n",
    "print(\"python list multiplication\\n\",py_list*2)\n",
    "\n",
    "np_array =np.array([1,2,3])\n"
   ]
  },
  {
   "cell_type": "markdown",
   "id": "c2584f40-b7b3-45c8-a0ce-6c964b15e099",
   "metadata": {},
   "source": [
    "Numpy arrays vs lists"
   ]
  },
  {
   "cell_type": "code",
   "execution_count": null,
   "id": "117aaf41-c8a4-41f7-a6ff-548f35fc44ad",
   "metadata": {},
   "outputs": [],
   "source": []
  }
 ],
 "metadata": {
  "kernelspec": {
   "display_name": "Python 3 (ipykernel)",
   "language": "python",
   "name": "python3"
  },
  "language_info": {
   "codemirror_mode": {
    "name": "ipython",
    "version": 3
   },
   "file_extension": ".py",
   "mimetype": "text/x-python",
   "name": "python",
   "nbconvert_exporter": "python",
   "pygments_lexer": "ipython3",
   "version": "3.13.2"
  }
 },
 "nbformat": 4,
 "nbformat_minor": 5
}
