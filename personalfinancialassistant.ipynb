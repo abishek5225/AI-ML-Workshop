{
 "cells": [
  {
   "cell_type": "code",
   "execution_count": null,
   "id": "55d7b1d1-0118-4165-a9fb-60c8af9853a5",
   "metadata": {},
   "outputs": [],
   "source": [
    "import pandas as pd"
   ]
  },
  {
   "cell_type": "code",
   "execution_count": null,
   "id": "04d349dc-d764-4e25-bfe5-f330f380d76e",
   "metadata": {},
   "outputs": [],
   "source": [
    "data={\n",
    "    'Date': ['2024-01-01', '2024-01-02', '2024-01-03', '2024-01-04', '2024-01-05'],\n",
    "    'Description': [\n",
    "        'Netflix Subscription',\n",
    "        'Starbucks Coffee',\n",
    "        'Uber Ride',\n",
    "        'Amazon Purchase',\n",
    "        'Electricity Bill'\n",
    "    ],"
   ]
  }
 ],
 "metadata": {
  "kernelspec": {
   "display_name": "Python 3 (ipykernel)",
   "language": "python",
   "name": "python3"
  },
  "language_info": {
   "codemirror_mode": {
    "name": "ipython",
    "version": 3
   },
   "file_extension": ".py",
   "mimetype": "text/x-python",
   "name": "python",
   "nbconvert_exporter": "python",
   "pygments_lexer": "ipython3",
   "version": "3.13.2"
  }
 },
 "nbformat": 4,
 "nbformat_minor": 5
}
