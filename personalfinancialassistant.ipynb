{
 "cells": [
  {
   "cell_type": "code",
   "execution_count": 3,
   "id": "55d7b1d1-0118-4165-a9fb-60c8af9853a5",
   "metadata": {},
   "outputs": [],
   "source": [
    "import pandas as pd\n",
    "from sklearn.feature_extraction.text import CountVectorizer\n",
    "from sklearn.model_selection import train_test_split\n",
    "from sklearn.linear_model import LogisticRegression\n",
    "from sklearn.metrics import classification_report"
   ]
  },
  {
   "cell_type": "code",
   "execution_count": 5,
   "id": "04d349dc-d764-4e25-bfe5-f330f380d76e",
   "metadata": {},
   "outputs": [
    {
     "name": "stdout",
     "output_type": "stream",
     "text": [
      "       Date           Description  Amount       Category\n",
      "0  1/1/2024  Netflix Subscription   12.99  Entertainment\n",
      "1  1/2/2024      Starbucks Coffee    4.50           food\n",
      "2  1/3/2024             Uber Ride   15.00      transport\n",
      "3  1/4/2024       Amazon Purchase   55.00       shopping\n",
      "4  1/5/2024      Electricity Bill   80.00      utilities\n"
     ]
    }
   ],
   "source": [
    "df=pd.read_csv(\"assistantdata.csv\")\n",
    "print(df.head())"
   ]
  },
  {
   "cell_type": "markdown",
   "id": "c6c8c351-7e34-469a-b452-d54e54825ca5",
   "metadata": {},
   "source": [
    "Input = Description, Output = Category"
   ]
  },
  {
   "cell_type": "code",
   "execution_count": 6,
   "id": "72eb23e1-c5db-487d-bf45-50cb025b1cec",
   "metadata": {},
   "outputs": [],
   "source": [
    "X= df['Description']\n",
    "y= df['Category']"
   ]
  },
  {
   "cell_type": "code",
   "execution_count": null,
   "id": "953d9857-c94a-47e0-9061-f07d8ebba1f2",
   "metadata": {},
   "outputs": [],
   "source": [
    "vectorizer = CountVectorizer()\n",
    "X_vec = vectorizer.fit_transform(X)"
   ]
  },
  {
   "cell_type": "code",
   "execution_count": 7,
   "id": "a77807b9-944b-45db-9344-57f49785b7fd",
   "metadata": {},
   "outputs": [
    {
     "ename": "NameError",
     "evalue": "name 'train_test_split' is not defined",
     "output_type": "error",
     "traceback": [
      "\u001b[31m---------------------------------------------------------------------------\u001b[39m",
      "\u001b[31mNameError\u001b[39m                                 Traceback (most recent call last)",
      "\u001b[36mCell\u001b[39m\u001b[36m \u001b[39m\u001b[32mIn[7]\u001b[39m\u001b[32m, line 1\u001b[39m\n\u001b[32m----> \u001b[39m\u001b[32m1\u001b[39m X_train, X_test, y_train, y_test = \u001b[43mtrain_test_split\u001b[49m(X_vec, y, test_size=\u001b[32m0.2\u001b[39m, random_state=\u001b[32m42\u001b[39m)\n",
      "\u001b[31mNameError\u001b[39m: name 'train_test_split' is not defined"
     ]
    }
   ],
   "source": [
    "X_train, X_test, y_train, y_test = train_test_split(X_vec, y, test_size=0.2, random_state=42)"
   ]
  }
 ],
 "metadata": {
  "kernelspec": {
   "display_name": "Python 3 (ipykernel)",
   "language": "python",
   "name": "python3"
  },
  "language_info": {
   "codemirror_mode": {
    "name": "ipython",
    "version": 3
   },
   "file_extension": ".py",
   "mimetype": "text/x-python",
   "name": "python",
   "nbconvert_exporter": "python",
   "pygments_lexer": "ipython3",
   "version": "3.13.2"
  }
 },
 "nbformat": 4,
 "nbformat_minor": 5
}
