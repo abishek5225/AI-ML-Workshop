{
 "cells": [
  {
   "cell_type": "markdown",
   "id": "20e2c16b-db74-43a9-9bee-d4d719eb4cf8",
   "metadata": {},
   "source": [
    "Linear regression program that goes from manual data  to calculation to prediction to visualization using only basic Python without using sklearn."
   ]
  },
  {
   "cell_type": "code",
   "execution_count": 28,
   "id": "e2ef40c3-e663-4e1a-a279-012d8f5f7a50",
   "metadata": {},
   "outputs": [],
   "source": [
    "import matplotlib.pyplot as plt"
   ]
  },
  {
   "cell_type": "markdown",
   "id": "34a4052c-5688-41d9-b34c-dd76c5b6b042",
   "metadata": {},
   "source": [
    "Independent variable (x) -> Diameter of Pizza\n",
    "Dependent variable (y) -> Price of Pizza"
   ]
  },
  {
   "cell_type": "code",
   "execution_count": 29,
   "id": "e8bd40a1-5478-47c3-8275-45c5c735d6f7",
   "metadata": {},
   "outputs": [],
   "source": [
    "x=[8,10,12]\n",
    "y=[10,13,16]"
   ]
  },
  {
   "cell_type": "markdown",
   "id": "8e6f8d5e-9bfd-4aea-9cdd-9e952cf3e114",
   "metadata": {},
   "source": [
    "Calculate the means of x and y"
   ]
  },
  {
   "cell_type": "code",
   "execution_count": 30,
   "id": "afad217e-2286-4982-aeec-a33e967f146a",
   "metadata": {},
   "outputs": [],
   "source": [
    "mean_x = sum(x) / len(x)\n",
    "mean_y = sum(y) / len(y)"
   ]
  },
  {
   "cell_type": "markdown",
   "id": "c9a52a55-ddc2-4b31-8858-a57067eed9ec",
   "metadata": {},
   "source": [
    "Calculating the slope(m)"
   ]
  },
  {
   "cell_type": "code",
   "execution_count": 31,
   "id": "2bb463de-4769-4644-8415-1ca7b5c43ed7",
   "metadata": {},
   "outputs": [],
   "source": [
    "numerator = 0\n",
    "denominator = 0"
   ]
  },
  {
   "cell_type": "code",
   "execution_count": 32,
   "id": "0ef89445-b2b5-4be4-a81d-3fef66d9ae52",
   "metadata": {},
   "outputs": [],
   "source": [
    "for i in range(len(x)):\n",
    "    numerator += (x[i] - mean_x) * (y[i] - mean_y)\n",
    "    denominator += (x[i] - mean_x) ** 2"
   ]
  },
  {
   "cell_type": "code",
   "execution_count": 33,
   "id": "dc5828d9-b217-41c8-8443-63ab6edb06cc",
   "metadata": {},
   "outputs": [],
   "source": [
    "m = numerator / denominator\n",
    "b = mean_y - (m * mean_x)"
   ]
  },
  {
   "cell_type": "code",
   "execution_count": 34,
   "id": "fb9ea708-b8ef-40dc-9105-1c20b2d107b7",
   "metadata": {},
   "outputs": [
    {
     "name": "stdout",
     "output_type": "stream",
     "text": [
      "Equation of the line: y = 1.50x + -2.00\n"
     ]
    }
   ],
   "source": [
    "print(f\"Equation of the line: y = {m:.2f}x + {b:.2f}\")"
   ]
  },
  {
   "cell_type": "markdown",
   "id": "80cc69be-b93c-4f28-a7bc-e1ee25adb74b",
   "metadata": {},
   "source": [
    "Predict price for a new diameter"
   ]
  },
  {
   "cell_type": "code",
   "execution_count": 35,
   "id": "248c7390-1d44-4a10-8c3f-d34ab7a14737",
   "metadata": {},
   "outputs": [
    {
     "name": "stdout",
     "output_type": "stream",
     "text": [
      "Predicted price for a 20-inch pizza: $28.00\n"
     ]
    }
   ],
   "source": [
    "new_diameter = 20\n",
    "predicted_price = m * new_diameter + b\n",
    "print(f\"Predicted price for a {new_diameter}-inch pizza: ${predicted_price:.2f}\")"
   ]
  },
  {
   "cell_type": "markdown",
   "id": "0e024363-7611-40b2-ab0e-d9bd6926bdcb",
   "metadata": {},
   "source": [
    "plot original data points"
   ]
  },
  {
   "cell_type": "code",
   "execution_count": 36,
   "id": "db6b8833-4d42-4907-80b3-c141fec98838",
   "metadata": {},
   "outputs": [
    {
     "data": {
      "text/plain": [
       "<matplotlib.collections.PathCollection at 0x25156536ba0>"
      ]
     },
     "execution_count": 36,
     "metadata": {},
     "output_type": "execute_result"
    },
    {
     "data": {
      "image/png": "[encoded data removed]",
      "text/plain": [
       "<Figure size 640x480 with 1 Axes>"
      ]
     },
     "metadata": {},
     "output_type": "display_data"
    }
   ],
   "source": [
    "plt.scatter(x, y, color='blue', label='Original Data')"
   ]
  }
 ],
 "metadata": {
  "kernelspec": {
   "display_name": "Python 3 (ipykernel)",
   "language": "python",
   "name": "python3"
  },
  "language_info": {
   "codemirror_mode": {
    "name": "ipython",
    "version": 3
   },
   "file_extension": ".py",
   "mimetype": "text/x-python",
   "name": "python",
   "nbconvert_exporter": "python",
   "pygments_lexer": "ipython3",
   "version": "3.13.2"
  }
 },
 "nbformat": 4,
 "nbformat_minor": 5
}
