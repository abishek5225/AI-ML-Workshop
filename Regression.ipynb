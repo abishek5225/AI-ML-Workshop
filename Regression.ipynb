{
 "cells": [
  {
   "cell_type": "code",
   "execution_count": 2,
   "id": "202f8a1d-abe4-4f8c-a6d5-7ac18aaae984",
   "metadata": {},
   "outputs": [],
   "source": [
    "import pandas as pd\n",
    "import matplotlib.pyplot as plt\n",
    "from sklearn.linear_model import LinearRegression\n",
    "from sklearn.model_selection import train_test_split\n",
    "from sklearn.metrics import mean_squared_error, r2_score"
   ]
  },
  {
   "cell_type": "code",
   "execution_count": 4,
   "id": "2a92783e-fafa-467f-9e68-fbeedb9c1b57",
   "metadata": {},
   "outputs": [
    {
     "name": "stdout",
     "output_type": "stream",
     "text": [
      "          Country  Year      Status  Adult Mortality  infant deaths  Alcohol  \\\n",
      "0     Afghanistan  2015  Developing            263.0             62     0.01   \n",
      "1     Afghanistan  2014  Developing            271.0             64     0.01   \n",
      "2     Afghanistan  2013  Developing            268.0             66     0.01   \n",
      "3     Afghanistan  2012  Developing            272.0             69     0.01   \n",
      "4     Afghanistan  2011  Developing            275.0             71     0.01   \n",
      "...           ...   ...         ...              ...            ...      ...   \n",
      "2933     Zimbabwe  2004  Developing            723.0             27     4.36   \n",
      "2934     Zimbabwe  2003  Developing            715.0             26     4.06   \n",
      "2935     Zimbabwe  2002  Developing             73.0             25     4.43   \n",
      "2936     Zimbabwe  2001  Developing            686.0             25     1.72   \n",
      "2937     Zimbabwe  2000  Developing            665.0             24     1.68   \n",
      "\n",
      "      percentage expenditure  Hepatitis B  Measles    BMI   ...  \\\n",
      "0                  71.279624         65.0      1154   19.1  ...   \n",
      "1                  73.523582         62.0       492   18.6  ...   \n",
      "2                  73.219243         64.0       430   18.1  ...   \n",
      "3                  78.184215         67.0      2787   17.6  ...   \n",
      "4                   7.097109         68.0      3013   17.2  ...   \n",
      "...                      ...          ...       ...    ...  ...   \n",
      "2933                0.000000         68.0        31   27.1  ...   \n",
      "2934                0.000000          7.0       998   26.7  ...   \n",
      "2935                0.000000         73.0       304   26.3  ...   \n",
      "2936                0.000000         76.0       529   25.9  ...   \n",
      "2937                0.000000         79.0      1483   25.5  ...   \n",
      "\n",
      "      Total expenditure  Diphtheria    HIV         GDP  Population  \\\n",
      "0                  8.16         65.0   0.1  584.259210  33736494.0   \n",
      "1                  8.18         62.0   0.1  612.696514    327582.0   \n",
      "2                  8.13         64.0   0.1  631.744976  31731688.0   \n",
      "3                  8.52         67.0   0.1  669.959000   3696958.0   \n",
      "4                  7.87         68.0   0.1   63.537231   2978599.0   \n",
      "...                 ...          ...   ...         ...         ...   \n",
      "2933               7.13         65.0  33.6  454.366654  12777511.0   \n",
      "2934               6.52         68.0  36.7  453.351155  12633897.0   \n",
      "2935               6.53         71.0  39.8   57.348340    125525.0   \n",
      "2936               6.16         75.0  42.1  548.587312  12366165.0   \n",
      "2937               7.10         78.0  43.5  547.358878  12222251.0   \n",
      "\n",
      "       thinness  1-19 years   thinness 5-9 years  \\\n",
      "0                      17.2                 17.3   \n",
      "1                      17.5                 17.5   \n",
      "2                      17.7                 17.7   \n",
      "3                      17.9                 18.0   \n",
      "4                      18.2                 18.2   \n",
      "...                     ...                  ...   \n",
      "2933                    9.4                  9.4   \n",
      "2934                    9.8                  9.9   \n",
      "2935                    1.2                  1.3   \n",
      "2936                    1.6                  1.7   \n",
      "2937                   11.0                 11.2   \n",
      "\n",
      "      Income composition of resources  Schooling  Life expectancy  \n",
      "0                               0.479       10.1             65.0  \n",
      "1                               0.476       10.0             59.9  \n",
      "2                               0.470        9.9             59.9  \n",
      "3                               0.463        9.8             59.5  \n",
      "4                               0.454        9.5             59.2  \n",
      "...                               ...        ...              ...  \n",
      "2933                            0.407        9.2             44.3  \n",
      "2934                            0.418        9.5             44.5  \n",
      "2935                            0.427       10.0             44.8  \n",
      "2936                            0.427        9.8             45.3  \n",
      "2937                            0.434        9.8             46.0  \n",
      "\n",
      "[2938 rows x 22 columns]\n"
     ]
    }
   ],
   "source": [
    "df=pd.read_csv(\"Life Expectancy Data.csv\")\n",
    "print(df)"
   ]
  },
  {
   "cell_type": "code",
   "execution_count": null,
   "id": "af4527ca-6532-47df-908b-d35112d1b483",
   "metadata": {},
   "outputs": [],
   "source": [
    "df = df[['Life expectancy', 'Schooling']].dropna()\n",
    "df.rename(columns ={'Life expectancy': 'LifeExpectancy'}, inplace=True)"
   ]
  },
  {
   "cell_type": "code",
   "execution_count": 7,
   "id": "6746e463-76ef-448a-90d7-40466678a859",
   "metadata": {},
   "outputs": [],
   "source": [
    "X=df[['Schooling']] #independent variable\n",
    "y=df['LifeExpectancy'] #dependent variable"
   ]
  }
 ],
 "metadata": {
  "kernelspec": {
   "display_name": "Python 3 (ipykernel)",
   "language": "python",
   "name": "python3"
  },
  "language_info": {
   "codemirror_mode": {
    "name": "ipython",
    "version": 3
   },
   "file_extension": ".py",
   "mimetype": "text/x-python",
   "name": "python",
   "nbconvert_exporter": "python",
   "pygments_lexer": "ipython3",
   "version": "3.13.2"
  }
 },
 "nbformat": 4,
 "nbformat_minor": 5
}
