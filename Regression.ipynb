{
 "cells": [
  {
   "cell_type": "markdown",
   "id": "20e2c16b-db74-43a9-9bee-d4d719eb4cf8",
   "metadata": {},
   "source": [
    "Linear regression program that goes from manual data  to calculation to prediction to visualization using only basic Python without using sklearn."
   ]
  },
  {
   "cell_type": "code",
   "execution_count": 3,
   "id": "e2ef40c3-e663-4e1a-a279-012d8f5f7a50",
   "metadata": {},
   "outputs": [],
   "source": [
    "import matplotlib.pyplot as plt"
   ]
  },
  {
   "cell_type": "markdown",
   "id": "34a4052c-5688-41d9-b34c-dd76c5b6b042",
   "metadata": {},
   "source": [
    "that goes from manual data ➡️ to calculation ➡️ to prediction ➡️ to visualization using only basic Python (no sklearn yet)."
   ]
  },
  {
   "cell_type": "code",
   "execution_count": null,
   "id": "e8bd40a1-5478-47c3-8275-45c5c735d6f7",
   "metadata": {},
   "outputs": [],
   "source": [
    "x=[8,10,12]\n",
    "y=[10,15,20]"
   ]
  }
 ],
 "metadata": {
  "kernelspec": {
   "display_name": "Python 3 (ipykernel)",
   "language": "python",
   "name": "python3"
  },
  "language_info": {
   "codemirror_mode": {
    "name": "ipython",
    "version": 3
   },
   "file_extension": ".py",
   "mimetype": "text/x-python",
   "name": "python",
   "nbconvert_exporter": "python",
   "pygments_lexer": "ipython3",
   "version": "3.13.2"
  }
 },
 "nbformat": 4,
 "nbformat_minor": 5
}
