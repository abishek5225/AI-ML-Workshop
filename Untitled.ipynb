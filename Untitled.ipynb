{
 "cells": [
  {
   "cell_type": "code",
   "execution_count": 1,
   "id": "f5b334c2-a899-452d-9eba-974b7462cea9",
   "metadata": {
    "scrolled": true
   },
   "outputs": [
    {
     "name": "stdout",
     "output_type": "stream",
     "text": [
      "Hello World\n"
     ]
    }
   ],
   "source": [
    "print(\"Hello World\")"
   ]
  },
  {
   "cell_type": "code",
   "execution_count": 1,
   "id": "636ce154-5743-44c6-9689-c1b6649590c6",
   "metadata": {},
   "outputs": [
    {
     "name": "stdin",
     "output_type": "stream",
     "text": [
      "Enter your exam score: 91\n"
     ]
    },
    {
     "name": "stdout",
     "output_type": "stream",
     "text": [
      "Your grade is: A\n"
     ]
    }
   ],
   "source": [
    "score=int(input(\"Enter your exam score:\"))\n",
    "if score >=90:\n",
    "    grade=\"A\"\n",
    "elif score >=80:\n",
    "    grade=\"B\"\n",
    "elif score >=70:\n",
    "    grade =\"C\"\n",
    "elif score >=60:\n",
    "    grade =\"D\"\n",
    "else:\n",
    "    grade=\"F\"\n",
    "\n",
    "print(\"Your grade is:\",grade)\n",
    "    "
   ]
  },
  {
   "cell_type": "code",
   "execution_count": 2,
   "id": "87f53ae5-862e-4846-a53d-0e19300705d5",
   "metadata": {},
   "outputs": [
    {
     "name": "stdin",
     "output_type": "stream",
     "text": [
      "Enter a year: 2020\n"
     ]
    },
    {
     "name": "stdout",
     "output_type": "stream",
     "text": [
      "2020 is a leap year\n"
     ]
    }
   ],
   "source": [
    "year= int(input(\"Enter a year:\"))\n",
    "if(year % 4 ==0 and year %100 !=0) or (year % 400 == 0):\n",
    "    print(year, \"is a leap year\")\n",
    "else:\n",
    "    print(year, \"is not a leap year\")"
   ]
  },
  {
   "cell_type": "code",
   "execution_count": 6,
   "id": "ecebedbc-455b-4688-a566-a99161eb7d76",
   "metadata": {},
   "outputs": [
    {
     "name": "stdout",
     "output_type": "stream",
     "text": [
      "['abishek', 12, 'b', 'true']\n",
      "12\n"
     ]
    }
   ],
   "source": [
    "a=[\"abishek\",12,'b','true']\n",
    "print(a)\n",
    "print(a[1])"
   ]
  },
  {
   "cell_type": "code",
   "execution_count": 3,
   "id": "436476b6-eb8c-451c-94f3-2b165d8b5d54",
   "metadata": {},
   "outputs": [
    {
     "name": "stdout",
     "output_type": "stream",
     "text": [
      "abishek\n",
      "12\n",
      "b\n",
      "true\n"
     ]
    }
   ],
   "source": [
    "#iterating list items\n",
    "for items in a:\n",
    "    print(items)"
   ]
  },
  {
   "cell_type": "code",
   "execution_count": 7,
   "id": "2828948a-e2e6-4134-af94-2763c77d1214",
   "metadata": {
    "scrolled": true
   },
   "outputs": [
    {
     "name": "stdout",
     "output_type": "stream",
     "text": [
      "{'brand': 'GorkhaStrong', 'price': 190}\n"
     ]
    }
   ],
   "source": [
    "#Create and print a dictionary\n",
    "mydic={\n",
    "    \"brand\": \"GorkhaStrong\",\n",
    "    \"price\":190,\n",
    "}\n",
    "print(mydic)"
   ]
  },
  {
   "cell_type": "code",
   "execution_count": 12,
   "id": "3c13f655-8013-4c5d-abf1-dc31f30686c1",
   "metadata": {},
   "outputs": [
    {
     "name": "stdin",
     "output_type": "stream",
     "text": [
      "\n",
      "Attempts left 4: 6\n"
     ]
    },
    {
     "name": "stdout",
     "output_type": "stream",
     "text": [
      "Wrong guess please try again\n"
     ]
    },
    {
     "name": "stdin",
     "output_type": "stream",
     "text": [
      "\n",
      "Attempts left 3: 2\n"
     ]
    },
    {
     "name": "stdout",
     "output_type": "stream",
     "text": [
      "Wrong guess please try again\n"
     ]
    },
    {
     "name": "stdin",
     "output_type": "stream",
     "text": [
      "\n",
      "Attempts left 2: 8\n"
     ]
    },
    {
     "name": "stdout",
     "output_type": "stream",
     "text": [
      "Wrong guess please try again\n"
     ]
    },
    {
     "name": "stdin",
     "output_type": "stream",
     "text": [
      "\n",
      "Attempts left 1: 7\n"
     ]
    },
    {
     "name": "stdout",
     "output_type": "stream",
     "text": [
      "Wrong guess please try again\n"
     ]
    }
   ],
   "source": [
    "import random\n",
    "secretnum = random.randint(1,10)\n",
    "attempts=4\n",
    "while attempts >0:\n",
    "    guess=int(input(f\"\\nAttempts left {attempts}:\"))\n",
    "    if guess==secretnum:\n",
    "        print(\"You guessed correct number\")\n",
    "    else:\n",
    "        print(\"Wrong guess please try again\")\n",
    "    attempts -=1"
   ]
  },
  {
   "cell_type": "code",
   "execution_count": 2,
   "id": "4bbfb015-b987-41e9-8319-67de02e6c8e6",
   "metadata": {},
   "outputs": [
    {
     "name": "stdout",
     "output_type": "stream",
     "text": [
      "[[1 2]\n",
      " [3 4]]\n"
     ]
    }
   ],
   "source": [
    "#looking numpy\n",
    "import numpy as np\n",
    "\n",
    "a=np.array([[1,2],[3,4]])\n",
    "print(a)"
   ]
  },
  {
   "cell_type": "code",
   "execution_count": 6,
   "id": "daa14be2-1658-4e43-a90c-bca971c59926",
   "metadata": {},
   "outputs": [
    {
     "name": "stdout",
     "output_type": "stream",
     "text": [
      "Original Array [10 20 30 40]\n",
      "After Multiplication [20 40 60 80]\n"
     ]
    }
   ],
   "source": [
    "import numpy as np\n",
    "arr=np.array([10,20,30,40])\n",
    "result = arr*2\n",
    "print(\"Original Array\",arr)\n",
    "print(\"After Multiplication\",result)"
   ]
  },
  {
   "cell_type": "code",
   "execution_count": 7,
   "id": "53207f57-66b8-4570-b81f-09531fb42f21",
   "metadata": {},
   "outputs": [
    {
     "name": "stdout",
     "output_type": "stream",
     "text": [
      "\n",
      "Matrix:\n",
      " [[10 20]\n",
      " [30 40]]\n"
     ]
    }
   ],
   "source": [
    "import numpy as np\n",
    "matrix=np.array([[10,20],[30,40]])\n",
    "print(\"\\nMatrix:\\n\",matrix)\n",
    "print("
   ]
  },
  {
   "cell_type": "code",
   "execution_count": 1,
   "id": "54d39f7f-f267-43c4-aa5f-883102bc2d1b",
   "metadata": {},
   "outputs": [
    {
     "name": "stdout",
     "output_type": "stream",
     "text": [
      "Pandas is working! Version: 2.2.3\n"
     ]
    }
   ],
   "source": [
    "import pandas as pd\n",
    "\n",
    "print(\"Pandas is working! Version:\", pd.__version__)"
   ]
  },
  {
   "cell_type": "code",
   "execution_count": 2,
   "id": "a868f9b1-9c16-476b-a363-ebadd07c67ee",
   "metadata": {},
   "outputs": [
    {
     "name": "stdout",
     "output_type": "stream",
     "text": [
      "      Name  Age        City\n",
      "0  Abishek   21   Dhulabari\n",
      "1     Sita   20   Kathmandu\n",
      "2      Ram   22  Biratnagar\n"
     ]
    }
   ],
   "source": [
    "data={\n",
    "    \"Name\": [\"Abishek\", \"Sita\", \"Ram\"],\n",
    "    \"Age\": [21, 20, 22],\n",
    "    \"City\": [\"Dhulabari\", \"Kathmandu\", \"Biratnagar\"]\n",
    "}\n",
    "df=pd.DataFrame(data)\n",
    "print(df)"
   ]
  }
 ],
 "metadata": {
  "kernelspec": {
   "display_name": "Python 3 (ipykernel)",
   "language": "python",
   "name": "python3"
  },
  "language_info": {
   "codemirror_mode": {
    "name": "ipython",
    "version": 3
   },
   "file_extension": ".py",
   "mimetype": "text/x-python",
   "name": "python",
   "nbconvert_exporter": "python",
   "pygments_lexer": "ipython3",
   "version": "3.13.2"
  }
 },
 "nbformat": 4,
 "nbformat_minor": 5
}
